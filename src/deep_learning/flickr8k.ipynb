{
 "cells": [
  {
   "source": [
    "# Probando tu implementación en Flickr8k\n",
    "\n",
    "En esta parte usaremos toda la implementación anterior para entrenar la red que selecciona el mejor subtítulo para cada imágen usando el dataset [Flickr8k](). Para simplificar el procesamiento de los datos de esta parte (y de la siguiente), en el repositorio del curso en el archivo [utils.py](https://github.com/dccuchile/CC6204/blob/master/2020/tareas/tarea4/utils.py) hemos dejado la clase `ImageCaptionDataset` que genera un dataset de pares `(img, txt_enc)` donde `img` es un tensor de dimensiones `(3,32,32)` que representa a una imagen y `txt_enc` es un vector de `4096` componentes con una representación del texto de descripción asociado a la imagen. En la [Hoja de Respuesta](https://colab.research.google.com/drive/1mD5IyGRDQqg3Mxh6TqFQEGWJDY7TVUCF#scrollTo=iTY5bha_xgCj) encontrarás código para descargar el dataset de Flickr8k pre-procesar los datos y crear un `ImageCaptionDataset` correspondiente a los conjuntos de train, test y validación. Con esto podrás comenzar el entrenamiento y testeo de tu red para este problema. Recuerda que puedes usar el procedimiento `train_for_retrieval` que también hemos dejado para ti en el repositorio del curso. \n",
    "\n",
    "Muestra las curvas de aprendizaje para tu arquitectura que de mejores resultados. En la Hoja de Respuestas también encontrarás algunas funcionalidades para visualizar cómo se comporta tu solución para distintas imágenes del conjunto de test. "
   ],
   "cell_type": "markdown",
   "metadata": {
    "collapsed": true,
    "pycharm": {
     "name": "#%% md\n"
    }
   }
  }
 ],
 "metadata": {
  "kernelspec": {
   "display_name": "Python 3",
   "language": "python",
   "name": "python3"
  },
  "language_info": {
   "codemirror_mode": {
    "name": "ipython",
    "version": 2
   },
   "file_extension": ".py",
   "mimetype": "text/x-python",
   "name": "python",
   "nbconvert_exporter": "python",
   "pygments_lexer": "ipython2",
   "version": "2.7.6"
  }
 },
 "nbformat": 4,
 "nbformat_minor": 0
}