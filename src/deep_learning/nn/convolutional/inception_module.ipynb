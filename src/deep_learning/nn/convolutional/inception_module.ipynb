{
 "cells": [
  {
   "source": [
    "# Inception Module\n",
    "\n",
    "Empezaremos implementando el *Inception Module* como una pequeña red de pytorch (heredando de `nn.Module`). La construcción de estos módulos puedes revisarla en [este video (minuto 23:40)](https://youtu.be/AxWG1aLWODE?t=1428). En resumen un Inception Module está compuesto por una primera fase en donde dos capas convolucionales de 1x1 son aplicadas a la entrada. Llamaremos $C_1$ y $C_2$ a estas capas convolucionales. La salida de $C_1$ se entrega como entrada a una capa convolucional de 3x3 y la salida de $C_2$ a una capa convolucional de 1x1. Llamemos $D_1$ y $D_2$ a estas capas, respectivamente. Además el Inception Module tiene una capa de Max Pooling de 3x3 que se aplica a la entrada seguida de una capa convolucional de 1x1 que llamaremos $D_3$, mas una capa convolucional adicional de 1x1 que llamaremos $D_4$ y que se aplica directamente a la entrada. Las salidas de $D_1$, $D_2$, $D_3$ y $D_4$ se concatenan (en ese orden) para generar la salida final del Inception Module.\n",
    "\n",
    "Un punto importante es que todas las convoluciones y el pooling tienen stride $1$ y el padding necesario para mantener las dimensiones de alto y ancho de la entrada.\n",
    "\n",
    "Como se menciona en el video, un Inception Module queda totalmente definido por la cantidad de canales de entrada más la cantidad de canales de salida de cada una de las capas convolucionales. Para simplificar la notación usaremos los siguientes nombres para la cantidad de canales de salida de cada una de las capas: \n",
    "- `ch_3x3_reduce`: cantidad de canales de salida de la capa $C_1$, \n",
    "- `ch_5x5_reduce`: cantidad de canales de salida de $C_2$, \n",
    "- `ch_3x3`: cantidad de canales de salida de $D_1$, \n",
    "- `ch_5x5`: cantidad de canales de salida de $D_2$, \n",
    "- `ch_pool_proj`: cantidad de canales de salida de $D_3$ y\n",
    "- `ch_1x1`: cantidad de canales de salida de $D_4$.  \n",
    "\n",
    "Estos nombres son similares a los que se usan en la Tabla 1 del [artículo original de GoogleNet](https://arxiv.org/abs/1409.4842v1). Considerando lo anterior, debes implementar el Inception Module con una clase como la que sigue.\n",
    "\n",
    "```python\n",
    "class InceptionModule(nn.Module):\n",
    "  def __init__(self, \n",
    "               in_channels, \n",
    "               ch_3x3_reduce=96, \n",
    "               ch_5x5_reduce=16,\n",
    "               ch_3x3=128,\n",
    "               ch_5x5=32,\n",
    "               ch_pool_proj=32,\n",
    "               ch_1x1=64\n",
    "    ):\n",
    "    super(InceptionModule, self).__init__()\n",
    "    # Acá inicializa todos los parámetros\n",
    "    ...\n",
    "\n",
    "  def forward(self, x):\n",
    "    # Calcula la salida como un tensor con cantidad de canales de\n",
    "    # salida dado por ch_3x3 + ch_5x5 + ch_pool_proj + ch_1x1\n",
    "    ...\n",
    "\n",
    "    return ....\n",
    "```"
   ],
   "cell_type": "markdown",
   "metadata": {
    "collapsed": true,
    "pycharm": {
     "name": "#%% md\n"
    }
   }
  }
 ],
 "metadata": {
  "kernelspec": {
   "display_name": "Python 3",
   "language": "python",
   "name": "python3"
  },
  "language_info": {
   "codemirror_mode": {
    "name": "ipython",
    "version": 2
   },
   "file_extension": ".py",
   "mimetype": "text/x-python",
   "name": "python",
   "nbconvert_exporter": "python",
   "pygments_lexer": "ipython2",
   "version": "2.7.6"
  }
 },
 "nbformat": 4,
 "nbformat_minor": 0
}