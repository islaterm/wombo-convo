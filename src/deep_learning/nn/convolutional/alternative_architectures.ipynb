{
 "cells": [
  {
   "source": [
    "# Arquitectura convolucional a elección\n",
    "\n",
    "En esta parte debes decidir qué arquitectura adicional quieres programar. \n",
    "Trata de hacer una implementación modular implementando pequeños trozos reusables de las arquitecturas. \n",
    "Por ejemplo, si te animas a implementar la red DenseNet, deberías hacer un modulo para el *Dense Block* que puedas reusar varias veces dentro de la arquitectura. \n",
    "Trata de encontrar la mejor configuración posible. \n",
    "Los artículos base de cada arquitectura te pueden ayudar a encontrarla. \n",
    "Por ejemplo, en la Tabla 2 del [artículo original de DenseNet](https://arxiv.org/abs/1608.06993), mencionan una configuración de la arquitectura que alcanza un 5.19% de error en CIFAR1.  \n",
    "\n",
    "```python\n",
    "# Acá el código para tu primera arquitectura\n",
    "\n",
    "class ...(nn.Module):\n",
    "  def __init__(self, n_classes):\n",
    "    super(..., self).__init__()\n",
    "\n",
    "    # Define las capas de convolución y pooling de tu arquitectura\n",
    "    ...\n",
    "\n",
    "    # Capa de salida (antes de la función de salida)\n",
    "    self.fc_out = nn.Linear(..., n_classes)\n",
    "\n",
    "  def forward(self, x):\n",
    "    # Computa las representaciones internas de la red\n",
    "    ...\n",
    "\n",
    "    # N x out_size\n",
    "    logits = self.fc_out(...)\n",
    "\n",
    "    # En hidden debes devolver alguna de las capas oculta de la red\n",
    "    return {'hidden': ..., 'logits': logits}\n",
    "```"
   ],
   "cell_type": "markdown",
   "metadata": {
    "collapsed": true
   }
  }
 ],
 "metadata": {
  "kernelspec": {
   "display_name": "Python 3",
   "language": "python",
   "name": "python3"
  },
  "language_info": {
   "codemirror_mode": {
    "name": "ipython",
    "version": 2
   },
   "file_extension": ".py",
   "mimetype": "text/x-python",
   "name": "python",
   "nbconvert_exporter": "python",
   "pygments_lexer": "ipython2",
   "version": "2.7.6"
  }
 },
 "nbformat": 4,
 "nbformat_minor": 0
}